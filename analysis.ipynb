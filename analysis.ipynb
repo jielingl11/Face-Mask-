{
 "cells": [
  {
   "cell_type": "code",
   "execution_count": 47,
   "id": "80771610",
   "metadata": {},
   "outputs": [],
   "source": [
    "import numpy as np \n",
    "import pandas as pd\n",
    "import matplotlib.pyplot as plt"
   ]
  },
  {
   "cell_type": "code",
   "execution_count": 68,
   "id": "1fd1fce7",
   "metadata": {},
   "outputs": [],
   "source": [
    "# ESS嗜睡問卷調查\n",
    "data_ESS = pd.read_csv('ESS.csv')\n",
    "data_ESS = data_ESS.drop(data_ESS.columns[[0, 1, 4, 5]], axis = 1)\n",
    "data_ESS.columns.values[0] = \"A_before\"\n",
    "data_ESS.columns.values[1] = \"A_after\"\n",
    "data_ESS.columns.values[2] = \"C_before\"\n",
    "data_ESS.columns.values[3] = \"C_after\""
   ]
  },
  {
   "cell_type": "code",
   "execution_count": 49,
   "id": "e22896be",
   "metadata": {},
   "outputs": [
    {
     "data": {
      "text/html": [
       "<div>\n",
       "<style scoped>\n",
       "    .dataframe tbody tr th:only-of-type {\n",
       "        vertical-align: middle;\n",
       "    }\n",
       "\n",
       "    .dataframe tbody tr th {\n",
       "        vertical-align: top;\n",
       "    }\n",
       "\n",
       "    .dataframe thead th {\n",
       "        text-align: right;\n",
       "    }\n",
       "</style>\n",
       "<table border=\"1\" class=\"dataframe\">\n",
       "  <thead>\n",
       "    <tr style=\"text-align: right;\">\n",
       "      <th></th>\n",
       "      <th>A_before</th>\n",
       "      <th>A_after</th>\n",
       "      <th>C_before</th>\n",
       "      <th>C_after</th>\n",
       "    </tr>\n",
       "  </thead>\n",
       "  <tbody>\n",
       "    <tr>\n",
       "      <th>0</th>\n",
       "      <td>8</td>\n",
       "      <td>1</td>\n",
       "      <td>8</td>\n",
       "      <td>5</td>\n",
       "    </tr>\n",
       "    <tr>\n",
       "      <th>1</th>\n",
       "      <td>7</td>\n",
       "      <td>4</td>\n",
       "      <td>8</td>\n",
       "      <td>4</td>\n",
       "    </tr>\n",
       "    <tr>\n",
       "      <th>2</th>\n",
       "      <td>0</td>\n",
       "      <td>6</td>\n",
       "      <td>4</td>\n",
       "      <td>2</td>\n",
       "    </tr>\n",
       "    <tr>\n",
       "      <th>3</th>\n",
       "      <td>7</td>\n",
       "      <td>3</td>\n",
       "      <td>7</td>\n",
       "      <td>8</td>\n",
       "    </tr>\n",
       "    <tr>\n",
       "      <th>4</th>\n",
       "      <td>13</td>\n",
       "      <td>11</td>\n",
       "      <td>6</td>\n",
       "      <td>3</td>\n",
       "    </tr>\n",
       "  </tbody>\n",
       "</table>\n",
       "</div>"
      ],
      "text/plain": [
       "   A_before  A_after  C_before  C_after\n",
       "0         8        1         8        5\n",
       "1         7        4         8        4\n",
       "2         0        6         4        2\n",
       "3         7        3         7        8\n",
       "4        13       11         6        3"
      ]
     },
     "execution_count": 49,
     "metadata": {},
     "output_type": "execute_result"
    }
   ],
   "source": [
    "data_ESS"
   ]
  },
  {
   "cell_type": "code",
   "execution_count": 69,
   "id": "24383724",
   "metadata": {},
   "outputs": [],
   "source": [
    "A_before= np.array(data_ESS['A_before'])\n",
    "A_after= np.array(data_ESS['A_after'])\n",
    "C_before= np.array(data_ESS['C_before'])\n",
    "C_after= np.array(data_ESS['C_after'])"
   ]
  },
  {
   "cell_type": "code",
   "execution_count": 51,
   "id": "c7b5f200",
   "metadata": {},
   "outputs": [],
   "source": [
    "from scipy import stats"
   ]
  },
  {
   "cell_type": "code",
   "execution_count": 52,
   "id": "2d43fd25",
   "metadata": {},
   "outputs": [
    {
     "name": "stdout",
     "output_type": "stream",
     "text": [
      "Paired T-test Results for A\n",
      "TtestResult(statistic=0.9225312080288851, pvalue=0.40846070846523685, df=4)\n",
      "\n",
      "Paired T-test Results for C\n",
      "TtestResult(statistic=2.5574480523640246, pvalue=0.06280761100070112, df=4)\n"
     ]
    }
   ],
   "source": [
    "# Paired T-test\n",
    "result_Ap= stats.ttest_rel(A_before, A_after)\n",
    "result_Cp= stats.ttest_rel(C_before, C_after)\n",
    "\n",
    "print('Paired T-test Results for A')\n",
    "print(result_Ap)\n",
    "print('')\n",
    "print('Paired T-test Results for C')\n",
    "print(result_Cp)"
   ]
  },
  {
   "cell_type": "code",
   "execution_count": null,
   "id": "ee1c4c76",
   "metadata": {},
   "outputs": [],
   "source": []
  },
  {
   "cell_type": "code",
   "execution_count": 70,
   "id": "46073b52",
   "metadata": {},
   "outputs": [
    {
     "data": {
      "image/png": "[encoded data removed]",
      "text/plain": [
       "<Figure size 504x324 with 1 Axes>"
      ]
     },
     "metadata": {
      "needs_background": "light"
     },
     "output_type": "display_data"
    }
   ],
   "source": [
    "# Plot the bar chart \n",
    "from matplotlib.font_manager import FontProperties\n",
    "from matplotlib.font_manager import FontProperties as font\n",
    "\n",
    "font1 = font(fname= \"/Users/jielinglee/Downloads/TaipeiSansTCBeta-Regular.ttf\")\n",
    "plt.rcParams['font.size']= 24\n",
    "\n",
    "\n",
    "objects = ('前','後')\n",
    "y= [np.mean(A_before), np.mean(A_after)]\n",
    "\n",
    "w = 0.4\n",
    "y_pos = (w/5,w*1.8)\n",
    "\n",
    "yerr= [np.std(A_before), np.std(A_after)]\n",
    "\n",
    "plt.figure(figsize=(7, 4.5))\n",
    "plt.title('ESS嗜睡問卷調查（A面膜）', fontproperties=font1)\n",
    "plt.bar(y_pos, y, width = 0.3, align='center', alpha=0.5)\n",
    "plt.errorbar(y_pos, y, yerr=yerr, fmt=\".\", color=\"black\", capsize=4)\n",
    "plt.ylabel('分數', fontproperties=font1)\n",
    "plt.xticks(y_pos, objects, fontproperties=font1)\n",
    "plt.savefig(\"ESS_A.png\")\n",
    "plt.show()\n"
   ]
  },
  {
   "cell_type": "code",
   "execution_count": 71,
   "id": "05ce23fa",
   "metadata": {},
   "outputs": [],
   "source": [
    "# Plot the bar chart \n",
    "from matplotlib.font_manager import FontProperties\n",
    "from matplotlib.font_manager import FontProperties as font\n",
    "\n",
    "font1 = font(fname= \"/Users/jielinglee/Downloads/TaipeiSansTCBeta-Regular.ttf\")\n",
    "plt.rcParams['font.size']= 22\n",
    "\n",
    "\n",
    "objects = ('前','後')\n",
    "y= [np.mean(C_before), np.mean(C_after)]\n",
    "\n",
    "w = 0.4\n",
    "y_pos = (w/5,w*1.8)\n",
    "\n",
    "yerr= [np.std(C_before), np.std(C_after)]\n",
    "\n",
    "#plt.figure(figsize=(7, 4.5))\n",
    "#plt.title('ESS嗜睡問卷調查（C面膜）', fontproperties=font1)\n",
    "#plt.bar(y_pos, y, width = 0.3, align='center', alpha=0.5)\n",
    "#plt.errorbar(y_pos, y, yerr=yerr, fmt=\".\", color=\"black\", capsize=4)\n",
    "#plt.ylabel('分數', fontproperties=font1)\n",
    "#plt.xticks(y_pos, objects, fontproperties=font1)\n",
    "#plt.savefig(\"ESS_C.png\")\n",
    "#plt.show()\n"
   ]
  },
  {
   "cell_type": "code",
   "execution_count": null,
   "id": "9a640c9b",
   "metadata": {},
   "outputs": [],
   "source": []
  },
  {
   "cell_type": "code",
   "execution_count": 55,
   "id": "f599300c",
   "metadata": {},
   "outputs": [],
   "source": [
    "# Pittsburge "
   ]
  },
  {
   "cell_type": "code",
   "execution_count": 56,
   "id": "fb81be8f",
   "metadata": {},
   "outputs": [],
   "source": [
    "data_Pit = np.loadtxt('Pittsburge.csv', delimiter=',', skiprows= 1, dtype= str, unpack= True)"
   ]
  },
  {
   "cell_type": "code",
   "execution_count": 72,
   "id": "d60ef386",
   "metadata": {},
   "outputs": [],
   "source": [
    "# 匹茲堡睡眠品質量表\n",
    "\n",
    "item_P= ['睡眠品質', '睡眠潛伏期', '睡眠時數', '睡眠效率', '睡眠困擾', '安眠藥物使用', '日間活動失能', '總分'] \n",
    "\n",
    "\n",
    "def result(item, no, Ab, Aa, Cb, Ca):\n",
    "    A_B= np.zeros((no, 5))\n",
    "    A_A= np.zeros((no, 5))\n",
    "    C_B= np.zeros((no, 5))\n",
    "    C_A= np.zeros((no, 5))\n",
    "    n=0\n",
    "    for i in range(no):\n",
    "        A_before2_1= Ab[0+n:5+n].astype(float)\n",
    "        A_after2_1= Aa[0+n:5+n].astype(float)\n",
    "        C_before2_1= Cb[0+n:5+n].astype(float)\n",
    "        C_after2_1= Ca[0+n:5+n].astype(float)\n",
    "    \n",
    "        A_B[i, :]= A_before2_1\n",
    "        A_A[i, :]= A_after2_1\n",
    "        C_B[i, :]= C_before2_1\n",
    "        C_A[i, :]= C_after2_1\n",
    "        \n",
    "        \n",
    "        print(item[i])\n",
    "        print('Paired T-test Results for A')\n",
    "        result_Ap= stats.ttest_rel(A_before2_1, A_after2_1)\n",
    "        print(result_Ap)\n",
    "        print('Paired T-test Results for C')\n",
    "        result_Cp= stats.ttest_rel(C_before2_1, C_after2_1)\n",
    "        print(result_Cp)\n",
    "        print('')\n",
    "\n",
    "        n+= 7\n",
    "    return A_B, A_A, C_B, C_A"
   ]
  },
  {
   "cell_type": "code",
   "execution_count": 58,
   "id": "dcd90256",
   "metadata": {},
   "outputs": [
    {
     "name": "stdout",
     "output_type": "stream",
     "text": [
      "睡眠品質\n",
      "Paired T-test Results for A\n",
      "TtestResult(statistic=-1.632993161855452, pvalue=0.17780780835622126, df=4)\n",
      "Paired T-test Results for C\n",
      "TtestResult(statistic=nan, pvalue=nan, df=4)\n",
      "\n",
      "睡眠潛伏期\n",
      "Paired T-test Results for A\n",
      "TtestResult(statistic=-0.9999999999999999, pvalue=0.373900966300059, df=4)\n",
      "Paired T-test Results for C\n",
      "TtestResult(statistic=-0.9999999999999999, pvalue=0.373900966300059, df=4)\n",
      "\n",
      "睡眠時數\n",
      "Paired T-test Results for A\n",
      "TtestResult(statistic=-0.9999999999999999, pvalue=0.373900966300059, df=4)\n",
      "Paired T-test Results for C\n",
      "TtestResult(statistic=0.5345224838248488, pvalue=0.6213082950374971, df=4)\n",
      "\n",
      "睡眠效率\n",
      "Paired T-test Results for A\n",
      "TtestResult(statistic=-0.9999999999999999, pvalue=0.373900966300059, df=4)\n",
      "Paired T-test Results for C\n",
      "TtestResult(statistic=1.3719886811400706, pvalue=0.24198153056802083, df=4)\n",
      "\n",
      "睡眠困擾\n",
      "Paired T-test Results for A\n",
      "TtestResult(statistic=-1.632993161855452, pvalue=0.17780780835622126, df=4)\n",
      "Paired T-test Results for C\n",
      "TtestResult(statistic=0.0, pvalue=1.0, df=4)\n",
      "\n",
      "安眠藥物使用\n",
      "Paired T-test Results for A\n",
      "TtestResult(statistic=-0.4082482904638631, pvalue=0.704, df=4)\n",
      "Paired T-test Results for C\n",
      "TtestResult(statistic=1.5, pvalue=0.20799999999999982, df=4)\n",
      "\n",
      "日間活動失能\n",
      "Paired T-test Results for A\n",
      "TtestResult(statistic=-1.632993161855452, pvalue=0.17780780835622126, df=4)\n",
      "Paired T-test Results for C\n",
      "TtestResult(statistic=2.449489742783178, pvalue=0.07048399691021993, df=4)\n",
      "\n",
      "總分\n",
      "Paired T-test Results for A\n",
      "TtestResult(statistic=-2.0, pvalue=0.1161165235168155, df=4)\n",
      "Paired T-test Results for C\n",
      "TtestResult(statistic=1.9069251784911845, pvalue=0.12920298463941007, df=4)\n",
      "\n"
     ]
    }
   ],
   "source": [
    "A_1, A_2, C_1, C_2= result(item_P[:4], 4, data_Pit[3], data_Pit[4], data_Pit[7], data_Pit[8])\n",
    "A_3, A_4, C_3, C_4= result(item_P[4:], 4, data_Pit[12], data_Pit[13], data_Pit[16], data_Pit[17])"
   ]
  },
  {
   "cell_type": "code",
   "execution_count": 73,
   "id": "7414ce4b",
   "metadata": {},
   "outputs": [],
   "source": [
    "\n",
    "def plot_total(y, item, no, text, save):\n",
    "    font1 = font(fname= \"/Users/jielinglee/Downloads/TaipeiSansTCBeta-Regular.ttf\")\n",
    "    plt.rcParams['font.size']=18\n",
    "\n",
    "    objects = ('前','後')\n",
    "    \n",
    " \n",
    "    plt.figure(figsize=(8, 5))\n",
    "    y_pos = (0.5, 2.5)\n",
    "\n",
    "    plt.title(text, fontproperties=font1)\n",
    "    \n",
    "    #plt.plot(y_pos, y, 'o-', color='red', alpha= 0.5)\n",
    "    color= ['#9B2226', '#BB3E03', '#EE9B00', '#E9D8A6', '#94D2BD', '#0A9396', '#005F73', '#001219']\n",
    "    for i in range(no):\n",
    "        plt.plot(y_pos, np.transpose(y)[i], 'o-', color=color[i], label= item[i])\n",
    "        plt.legend(fontsize= 6, prop= font1) \n",
    "    plt.boxplot([y[0], y[1]], positions= y_pos, sym='')\n",
    "    plt.ylabel('分數', fontproperties=font1)\n",
    "    plt.xlim(0,5.5)\n",
    "    plt.xticks(y_pos, objects, fontproperties=font1)\n",
    "    plt.savefig(save+\".png\")\n",
    "    plt.show()\n",
    "\n",
    "    \n",
    "    \n",
    "y1= [np.append(np.sum(A_1, axis=1), np.sum(A_3, axis=1))[:7], np.append(np.sum(A_2, axis=1), np.sum(A_4, axis=1))[:7]]\n",
    "#plot_total(y1, item_P, 7, '匹茲堡睡眠品質量表（A面膜)', \"Total_Pitt_A\")\n",
    "\n"
   ]
  },
  {
   "cell_type": "code",
   "execution_count": 74,
   "id": "ddc35d35",
   "metadata": {},
   "outputs": [],
   "source": [
    "y2= [np.append(np.sum(C_1, axis=1), np.sum(C_3, axis=1))[:7], np.append(np.sum(C_2, axis=1), np.sum(C_4, axis=1))[:7]]\n",
    "\n",
    "#plot_total(y2, item_P, 7, '匹茲堡睡眠品質量表（C面膜)', \"Total_Pitt_C\")\n"
   ]
  },
  {
   "cell_type": "code",
   "execution_count": 75,
   "id": "f7869f32",
   "metadata": {},
   "outputs": [],
   "source": [
    "def plot1(before, after, text, survey, ab, add, item):\n",
    "    font1 = font(fname= \"/Users/jielinglee/Downloads/TaipeiSansTCBeta-Regular.ttf\")\n",
    "    plt.rcParams['font.size']=20\n",
    "\n",
    "    objects = ('前','後')\n",
    "    y= [np.mean(before), np.mean(after)]\n",
    "\n",
    "    w = 0.4\n",
    "    y_pos = (w/5,w*1.8)\n",
    "\n",
    "    yerr= [np.std(before), np.std(after)]\n",
    "\n",
    "    plt.figure(figsize=(7, 4.5))\n",
    "    plt.title(survey+'（'+ text +'面膜）-'+item[i+add], fontproperties=font1)\n",
    "    plt.bar(y_pos, y, width = 0.3, align='center', alpha=0.5)\n",
    "    plt.errorbar(y_pos, y, yerr=yerr, fmt=\".\", color=\"black\", capsize=4)\n",
    "    plt.ylabel('分數', fontproperties=font1)\n",
    "    plt.xticks(y_pos, objects, fontproperties=font1)\n",
    "    plt.savefig(ab +str(i)+ text+\".png\")\n",
    "    plt.show()"
   ]
  },
  {
   "cell_type": "code",
   "execution_count": 62,
   "id": "666f0f7a",
   "metadata": {},
   "outputs": [],
   "source": [
    "#for i in range(4):\n",
    "#    plot1(A_1[i], A_2[i], \"A\", \"匹茲堡睡眠品質量表\", \"Pitts1\", 0, item_P)\n",
    "#    plot1(C_1[i], C_2[i], \"C\", \"匹茲堡睡眠品質量表\", \"Pitts1\", 0, item_P)"
   ]
  },
  {
   "cell_type": "code",
   "execution_count": 77,
   "id": "7d9976de",
   "metadata": {},
   "outputs": [
    {
     "data": {
      "image/png": "[encoded data removed]",
      "text/plain": [
       "<Figure size 504x324 with 1 Axes>"
      ]
     },
     "metadata": {
      "needs_background": "light"
     },
     "output_type": "display_data"
    },
    {
     "data": {
      "image/png": "[encoded data removed]",
      "text/plain": [
       "<Figure size 504x324 with 1 Axes>"
      ]
     },
     "metadata": {
      "needs_background": "light"
     },
     "output_type": "display_data"
    },
    {
     "data": {
      "image/png": "[encoded data removed]",
      "text/plain": [
       "<Figure size 504x324 with 1 Axes>"
      ]
     },
     "metadata": {
      "needs_background": "light"
     },
     "output_type": "display_data"
    },
    {
     "data": {
      "image/png": "[encoded data removed]",
      "text/plain": [
       "<Figure size 504x324 with 1 Axes>"
      ]
     },
     "metadata": {
      "needs_background": "light"
     },
     "output_type": "display_data"
    },
    {
     "data": {
      "image/png": "[encoded data removed]",
      "text/plain": [
       "<Figure size 504x324 with 1 Axes>"
      ]
     },
     "metadata": {
      "needs_background": "light"
     },
     "output_type": "display_data"
    },
    {
     "data": {
      "image/png": "[encoded data removed]",
      "text/plain": [
       "<Figure size 504x324 with 1 Axes>"
      ]
     },
     "metadata": {
      "needs_background": "light"
     },
     "output_type": "display_data"
    },
    {
     "data": {
      "image/png": "[encoded data removed]",
      "text/plain": [
       "<Figure size 504x324 with 1 Axes>"
      ]
     },
     "metadata": {
      "needs_background": "light"
     },
     "output_type": "display_data"
    },
    {
     "data": {
      "image/png": "[encoded data removed]",
      "text/plain": [
       "<Figure size 504x324 with 1 Axes>"
      ]
     },
     "metadata": {
      "needs_background": "light"
     },
     "output_type": "display_data"
    }
   ],
   "source": [
    "for i in range(4):\n",
    "    plot1(A_3[i], A_4[i], \"A\", \"匹茲堡睡眠品質量表\", \"Pitts2\", 4, item_P)\n",
    "    plot1(C_3[i], C_4[i], \"C\", \"匹茲堡睡眠品質量表\", \"Pitts2\", 4, item_P)"
   ]
  },
  {
   "cell_type": "code",
   "execution_count": null,
   "id": "e73c46d3",
   "metadata": {},
   "outputs": [],
   "source": []
  },
  {
   "cell_type": "code",
   "execution_count": 18,
   "id": "bd544245",
   "metadata": {},
   "outputs": [],
   "source": [
    "# SF-36\n",
    "data_SF36= np.loadtxt('SF36.csv', delimiter=',', skiprows= 1, dtype= str, unpack= True)"
   ]
  },
  {
   "cell_type": "code",
   "execution_count": 19,
   "id": "2a36636d",
   "metadata": {
    "scrolled": true
   },
   "outputs": [
    {
     "name": "stdout",
     "output_type": "stream",
     "text": [
      "生理功能\n",
      "Paired T-test Results for A\n",
      "TtestResult(statistic=-2.4494897427831783, pvalue=0.07048399691021993, df=4)\n",
      "Paired T-test Results for C\n",
      "TtestResult(statistic=-1.0, pvalue=0.373900966300059, df=4)\n",
      "\n",
      "生理職能\n",
      "Paired T-test Results for A\n",
      "TtestResult(statistic=1.0, pvalue=0.373900966300059, df=4)\n",
      "Paired T-test Results for C\n",
      "TtestResult(statistic=1.0, pvalue=0.373900966300059, df=4)\n",
      "\n",
      "軀體疼痛\n",
      "Paired T-test Results for A\n",
      "TtestResult(statistic=0.3015113445777636, pvalue=0.778049548900021, df=4)\n",
      "Paired T-test Results for C\n",
      "TtestResult(statistic=-2.4494897427831783, pvalue=0.07048399691021993, df=4)\n",
      "\n",
      "總體健康\n",
      "Paired T-test Results for A\n",
      "TtestResult(statistic=3.1378581622109447, pvalue=0.034919706674539044, df=4)\n",
      "Paired T-test Results for C\n",
      "TtestResult(statistic=0.7385489458759964, pvalue=0.5011693674201637, df=4)\n",
      "\n",
      "軀體健康總測量\n",
      "Paired T-test Results for A\n",
      "TtestResult(statistic=1.299688112275091, pvalue=0.2635485371875481, df=4)\n",
      "Paired T-test Results for C\n",
      "TtestResult(statistic=0.04194061219900216, pvalue=0.9685560627437786, df=4)\n",
      "\n",
      "總分\n",
      "Paired T-test Results for A\n",
      "TtestResult(statistic=0.46309385376482565, pvalue=0.6673711951302259, df=4)\n",
      "Paired T-test Results for C\n",
      "TtestResult(statistic=-1.5051642877376084, pvalue=0.20673475041999953, df=4)\n",
      "\n",
      "活力\n",
      "Paired T-test Results for A\n",
      "TtestResult(statistic=-0.8427009716003844, pvalue=0.4468358966258564, df=4)\n",
      "Paired T-test Results for C\n",
      "TtestResult(statistic=-1.3949716649258315, pvalue=0.23549636025944287, df=4)\n",
      "\n",
      "社會功能\n",
      "Paired T-test Results for A\n",
      "TtestResult(statistic=1.1766968108291043, pvalue=0.30455878468053477, df=4)\n",
      "Paired T-test Results for C\n",
      "TtestResult(statistic=-1.862761261695199, pvalue=0.13596515796478775, df=4)\n",
      "\n",
      "情感職能\n",
      "Paired T-test Results for A\n",
      "TtestResult(statistic=nan, pvalue=nan, df=4)\n",
      "Paired T-test Results for C\n",
      "TtestResult(statistic=-1.3725936141102313, pvalue=0.2418085936914041, df=4)\n",
      "\n",
      "精神健康\n",
      "Paired T-test Results for A\n",
      "TtestResult(statistic=-1.1952286093343936, pvalue=0.2980148117312104, df=4)\n",
      "Paired T-test Results for C\n",
      "TtestResult(statistic=0.0, pvalue=1.0, df=4)\n",
      "\n",
      "心理健康總測量\n",
      "Paired T-test Results for A\n",
      "TtestResult(statistic=-0.3252122453609338, pvalue=0.761320006502964, df=4)\n",
      "Paired T-test Results for C\n",
      "TtestResult(statistic=-1.678050139303091, pvalue=0.16864026999664272, df=4)\n",
      "\n"
     ]
    }
   ],
   "source": [
    "item_SF= ['生理功能', '生理職能', '軀體疼痛', '總體健康', '軀體健康總測量', '總分', '活力', '社會功能', '情感職能', '精神健康', '心理健康總測量']\n",
    "\n",
    "AS_1, AS_2, CS_1, CS_2= result(item_SF[:6], 6, data_SF36[3], data_SF36[4], data_SF36[7], data_SF36[8])\n",
    "AS_3, AS_4, CS_3, CS_4= result(item_SF[6:], 5, data_SF36[12], data_SF36[13], data_SF36[16], data_SF36[17])"
   ]
  },
  {
   "cell_type": "code",
   "execution_count": 20,
   "id": "ee215d25",
   "metadata": {},
   "outputs": [],
   "source": [
    "#for i in range(6):\n",
    "#    plot1(AS_1[i], AS_2[i], \"A\", \"SF36健康量表\", \"SF36-1\", 0, item_SF)\n",
    "#    plot1(CS_1[i], CS_2[i], \"C\", \"SF36健康量表\", \"SF36-1\", 0, item_SF)"
   ]
  },
  {
   "cell_type": "code",
   "execution_count": 21,
   "id": "cd942ffa",
   "metadata": {},
   "outputs": [],
   "source": [
    "#for i in range(5):\n",
    "#    plot1(AS_3[i], AS_4[i], \"A\", \"SF36健康量表\", \"SF36-2\", 6, item_SF)\n",
    "#    plot1(CS_3[i], CS_4[i], \"C\", \"SF36健康量表\", \"SF36-2\", 6, item_SF)"
   ]
  },
  {
   "cell_type": "code",
   "execution_count": 22,
   "id": "96c33ba2",
   "metadata": {},
   "outputs": [],
   "source": [
    "\n",
    "y2= [np.append(np.sum(AS_1, axis=1), np.sum(AS_3, axis=1))[[0,1,2,3,6,7,8,9]], np.append(np.sum(AS_2, axis=1), np.sum(AS_4, axis=1))[[0,1,2,3,6,7,8,9]]]\n",
    "\n",
    "\n",
    "y3= np.zeros((2, 8))\n",
    "for i in range(2):\n",
    "    for j in range(8):\n",
    "        y3[i][j]= y2[i][j]\n",
    "    \n",
    "\n",
    "#plot_total(y3, item2, 8, 'SF36健康量表（A面膜)', \"Total_SF36_A\")\n"
   ]
  },
  {
   "cell_type": "code",
   "execution_count": 23,
   "id": "840ee2dd",
   "metadata": {},
   "outputs": [],
   "source": [
    "y4= [np.append(np.sum(CS_1, axis=1), np.sum(CS_3, axis=1))[[0,1,2,3,6,7,8,9]], np.append(np.sum(CS_2, axis=1), np.sum(CS_4, axis=1))[[0,1,2,3,6,7,8,9]]]\n",
    "\n",
    "y5= np.zeros((2, 8))\n",
    "\n",
    "for i in range(2):\n",
    "    for j in range(8):\n",
    "        y5[i][j]= y4[i][j]\n",
    "        \n",
    "#plot_total(y5, item2, 8, 'SF36健康量表（C面膜)', \"Total_SF36_C\")\n"
   ]
  },
  {
   "cell_type": "code",
   "execution_count": 24,
   "id": "46dd094e",
   "metadata": {},
   "outputs": [],
   "source": [
    "# HRV \n",
    "data_HRV = np.loadtxt('HRV-2.csv', delimiter=',', skiprows= 1, dtype= str, unpack= True)"
   ]
  },
  {
   "cell_type": "code",
   "execution_count": 25,
   "id": "9be7ae08",
   "metadata": {},
   "outputs": [],
   "source": [
    "def result2(item, no, t1, t2, Ab, Aa, Cb, Ca, A):\n",
    "    A_B= np.zeros((no, A[0]))\n",
    "    A_A= np.zeros((no, A[1]))\n",
    "    C_B= np.zeros((no, A[2]))\n",
    "    C_A= np.zeros((no, A[3]))\n",
    "    n=0\n",
    "    for i in range(no):\n",
    "        A_before2_1= Ab[0+n:t1+n].astype(float)\n",
    "        A_after2_1= Aa[0+n:t1+n].astype(float)\n",
    "        C_before2_1= Cb[0+n:t2+n].astype(float)\n",
    "        C_after2_1= Ca[0+n:t2+n].astype(float)\n",
    "        \n",
    "\n",
    "        A_B[i, :]= A_before2_1\n",
    "        A_A[i, :]= A_after2_1\n",
    "        C_B[i, :]= C_before2_1\n",
    "        C_A[i, :]= C_after2_1\n",
    "\n",
    "        print(item[i])\n",
    "        print('第一次： Paired T-test Results')\n",
    "        result_Ap= stats.ttest_rel(A_before2_1, A_after2_1)\n",
    "        print(result_Ap)\n",
    "        print('第二次： Paired T-test Results')\n",
    "        result_Cp= stats.ttest_rel(C_before2_1, C_after2_1)\n",
    "        print(result_Cp)\n",
    "        print('')\n",
    "\n",
    "        n+= 8\n",
    "    return A_B, A_A, C_B, C_A"
   ]
  },
  {
   "cell_type": "code",
   "execution_count": 26,
   "id": "7d671690",
   "metadata": {},
   "outputs": [],
   "source": [
    "def plot2(before, after, objects, unit, text, survey, ab):\n",
    "    font1 = font(fname= \"/Users/jielinglee/Downloads/TaipeiSansTCBeta-Regular.ttf\")\n",
    "    plt.rcParams['font.size']=16\n",
    "\n",
    "    y= [np.mean(before), np.mean(after)]\n",
    "\n",
    "    w = 0.4\n",
    "    y_pos = (w/5,w*1.8)\n",
    "\n",
    "    yerr= [np.std(before), np.std(after)]\n",
    "\n",
    "    plt.figure(figsize=(8, 4.5))\n",
    "    plt.title(survey+'（'+ text +'面膜）', fontproperties=font1)\n",
    "    plt.bar(y_pos, y, width = 0.3, align='center', alpha=0.5)\n",
    "    plt.errorbar(y_pos, y, yerr=yerr, fmt=\".\", color=\"black\", capsize=4)\n",
    "    plt.ylabel(unit, fontproperties=font1)\n",
    "    plt.xticks(y_pos, objects, fontproperties=font1)\n",
    "    plt.savefig(ab +str(i)+ text+\".png\")\n",
    "    plt.show()"
   ]
  },
  {
   "cell_type": "code",
   "execution_count": 27,
   "id": "8e998498",
   "metadata": {},
   "outputs": [
    {
     "name": "stdout",
     "output_type": "stream",
     "text": [
      "A面膜\n",
      "\n",
      "比較前和中\n",
      "SDNN\n",
      "第一次： Paired T-test Results\n",
      "TtestResult(statistic=-0.7499252835925282, pvalue=0.4949997638093496, df=4)\n",
      "第二次： Paired T-test Results\n",
      "TtestResult(statistic=-1.5581746108922154, pvalue=0.19419227685151966, df=4)\n",
      "\n",
      "RMSSD\n",
      "第一次： Paired T-test Results\n",
      "TtestResult(statistic=-1.0560337936221027, pvalue=0.3505129281201349, df=4)\n",
      "第二次： Paired T-test Results\n",
      "TtestResult(statistic=-1.0886621079036347, pvalue=0.33750185654036463, df=4)\n",
      "\n",
      "ANS\n",
      "第一次： Paired T-test Results\n",
      "TtestResult(statistic=-0.36740522604809095, pvalue=0.7319302630201028, df=4)\n",
      "第二次： Paired T-test Results\n",
      "TtestResult(statistic=-0.9464534651013435, pvalue=0.39750946101884815, df=4)\n",
      "\n",
      "TP\n",
      "第一次： Paired T-test Results\n",
      "TtestResult(statistic=-0.4097673684513607, pvalue=0.7029716104787925, df=4)\n",
      "第二次： Paired T-test Results\n",
      "TtestResult(statistic=-1.239363984428705, pvalue=0.2829585643452795, df=4)\n",
      "\n",
      "Balance\n",
      "第一次： Paired T-test Results\n",
      "TtestResult(statistic=1.2555656114510325, pvalue=0.2776149454990729, df=4)\n",
      "第二次： Paired T-test Results\n",
      "TtestResult(statistic=-0.32337546645244647, pvalue=0.7626110507376846, df=4)\n",
      "\n",
      "SYM(調整)\n",
      "第一次： Paired T-test Results\n",
      "TtestResult(statistic=-0.5180055829791472, pvalue=0.6317868221707079, df=4)\n",
      "第二次： Paired T-test Results\n",
      "TtestResult(statistic=-0.26226886539042965, pvalue=0.8060671497087488, df=4)\n",
      "\n",
      "VAG(調整)\n",
      "第一次： Paired T-test Results\n",
      "TtestResult(statistic=0.025980112618836346, pvalue=0.9805176550035044, df=4)\n",
      "第二次： Paired T-test Results\n",
      "TtestResult(statistic=-2.209257705282864, pvalue=0.09170187891896685, df=4)\n",
      "\n",
      "ANS(調整)\n",
      "第一次： Paired T-test Results\n",
      "TtestResult(statistic=-0.32815088085354993, pvalue=0.7592564381944229, df=4)\n",
      "第二次： Paired T-test Results\n",
      "TtestResult(statistic=-0.7651476795557066, pvalue=0.4868342001495884, df=4)\n",
      "\n",
      "\n",
      "比較中和後\n",
      "SDNN\n",
      "第一次： Paired T-test Results\n",
      "TtestResult(statistic=-0.47240079040405514, pvalue=0.6612611041842895, df=4)\n",
      "第二次： Paired T-test Results\n",
      "TtestResult(statistic=0.8910753475272968, pvalue=0.42324439016012966, df=4)\n",
      "\n",
      "RMSSD\n",
      "第一次： Paired T-test Results\n",
      "TtestResult(statistic=-0.6784005252999681, pvalue=0.5347370296388319, df=4)\n",
      "第二次： Paired T-test Results\n",
      "TtestResult(statistic=-0.6270597128624559, pvalue=0.564633091880488, df=4)\n",
      "\n",
      "ANS\n",
      "第一次： Paired T-test Results\n",
      "TtestResult(statistic=-1.2799264064824674, pvalue=0.2697616651310129, df=4)\n",
      "第二次： Paired T-test Results\n",
      "TtestResult(statistic=-0.0892868728869708, pvalue=0.9331458330752457, df=4)\n",
      "\n",
      "TP\n",
      "第一次： Paired T-test Results\n",
      "TtestResult(statistic=-0.6893641723454204, pvalue=0.5285003012909635, df=4)\n",
      "第二次： Paired T-test Results\n",
      "TtestResult(statistic=1.1040820928283916, pvalue=0.3315058066006001, df=4)\n",
      "\n",
      "Balance\n",
      "第一次： Paired T-test Results\n",
      "TtestResult(statistic=0.11612568305622388, pvalue=0.9131495582850266, df=4)\n",
      "第二次： Paired T-test Results\n",
      "TtestResult(statistic=1.4174805881070445, pvalue=0.229312179298959, df=4)\n",
      "\n",
      "SYM(調整)\n",
      "第一次： Paired T-test Results\n",
      "TtestResult(statistic=-0.05855818725396668, pvalue=0.9561127062835526, df=4)\n",
      "第二次： Paired T-test Results\n",
      "TtestResult(statistic=-0.508399274931357, pvalue=0.6379298482981051, df=4)\n",
      "\n",
      "VAG(調整)\n",
      "第一次： Paired T-test Results\n",
      "TtestResult(statistic=-1.0208627210588275, pvalue=0.3650372445211301, df=4)\n",
      "第二次： Paired T-test Results\n",
      "TtestResult(statistic=1.3019543984976212, pvalue=0.26284491758476886, df=4)\n",
      "\n",
      "ANS(調整)\n",
      "第一次： Paired T-test Results\n",
      "TtestResult(statistic=-1.2535399526161908, pvalue=0.2782777403937091, df=4)\n",
      "第二次： Paired T-test Results\n",
      "TtestResult(statistic=-0.15409070476167605, pvalue=0.8850001060157985, df=4)\n",
      "\n",
      "\n",
      "比較前和後\n",
      "SDNN\n",
      "第一次： Paired T-test Results\n",
      "TtestResult(statistic=-1.0216453442821567, pvalue=0.36470835486693415, df=4)\n",
      "第二次： Paired T-test Results\n",
      "TtestResult(statistic=-1.2646628130570885, pvalue=0.27465692494122224, df=4)\n",
      "\n",
      "RMSSD\n",
      "第一次： Paired T-test Results\n",
      "TtestResult(statistic=-1.0327955589886444, pvalue=0.36005084762422246, df=4)\n",
      "第二次： Paired T-test Results\n",
      "TtestResult(statistic=-2.3312620206007844, pvalue=0.08014122805832381, df=4)\n",
      "\n",
      "ANS\n",
      "第一次： Paired T-test Results\n",
      "TtestResult(statistic=-0.8913067833238797, pvalue=0.42313402130607153, df=4)\n",
      "第二次： Paired T-test Results\n",
      "TtestResult(statistic=-1.0729670176399395, pvalue=0.3437053691460447, df=4)\n",
      "\n",
      "TP\n",
      "第一次： Paired T-test Results\n",
      "TtestResult(statistic=-0.7930963502455832, pvalue=0.4721104532626967, df=4)\n",
      "第二次： Paired T-test Results\n",
      "TtestResult(statistic=-0.24078079360516397, pvalue=0.8215628685660582, df=4)\n",
      "\n",
      "Balance\n",
      "第一次： Paired T-test Results\n",
      "TtestResult(statistic=0.6991486368741694, pvalue=0.5229786351348691, df=4)\n",
      "第二次： Paired T-test Results\n",
      "TtestResult(statistic=0.8805520543434832, pvalue=0.4282879151253723, df=4)\n",
      "\n",
      "SYM(調整)\n",
      "第一次： Paired T-test Results\n",
      "TtestResult(statistic=-0.4431278444904269, pvalue=0.6805842113746803, df=4)\n",
      "第二次： Paired T-test Results\n",
      "TtestResult(statistic=-0.5987794631356069, pvalue=0.5815794498045521, df=4)\n",
      "\n",
      "VAG(調整)\n",
      "第一次： Paired T-test Results\n",
      "TtestResult(statistic=-0.6628931145372576, pvalue=0.543647607853599, df=4)\n",
      "第二次： Paired T-test Results\n",
      "TtestResult(statistic=-1.5744004806477658, pvalue=0.19051117350433522, df=4)\n",
      "\n",
      "ANS(調整)\n",
      "第一次： Paired T-test Results\n",
      "TtestResult(statistic=-0.9091403321918293, pvalue=0.41470074054242645, df=4)\n",
      "第二次： Paired T-test Results\n",
      "TtestResult(statistic=-0.8946912204096045, pvalue=0.4215227368805644, df=4)\n",
      "\n"
     ]
    }
   ],
   "source": [
    "item2= ['SDNN', 'RMSSD', 'ANS', 'TP', 'Balance', 'SYM(調整)', 'VAG(調整)', 'ANS(調整)'] \n",
    "unit= ['SDNN(ms)', 'RMSSD(ms)', 'ANS($ms^2$)', 'Total Power($ms^2$)', 'Balance($\\sigma$)', 'SYM($\\sigma$)', 'VAG($\\sigma$)', 'ANS($\\sigma$)'] \n",
    "\n",
    "#5, 5, 5, 5\n",
    "print('A面膜')\n",
    "print('')\n",
    "print('比較前和中')\n",
    "AH_1, AH_2, AH_4, AH_5= result2(item2, 8, 5, 5, data_HRV[3][2:], data_HRV[4][2:], data_HRV[7][2:], data_HRV[8][2:], [5,5,5,5])\n",
    "print('')\n",
    "print('比較中和後')\n",
    "AH_2, AH_3, AH_5, AH_6= result2(item2, 8, 5, 5, data_HRV[4][2:], data_HRV[5][2:], data_HRV[8][2:], data_HRV[9][2:], [5,5,5,5])\n",
    "print('')\n",
    "print('比較前和後')\n",
    "AH_1, AH_3, AH_4, AH_6= result2(item2, 8, 5, 5, data_HRV[3][2:], data_HRV[5][2:], data_HRV[7][2:], data_HRV[9][2:], [5,5,5,5])"
   ]
  },
  {
   "cell_type": "code",
   "execution_count": null,
   "id": "816a0ad4",
   "metadata": {},
   "outputs": [],
   "source": []
  },
  {
   "cell_type": "code",
   "execution_count": 28,
   "id": "8ff07399",
   "metadata": {},
   "outputs": [],
   "source": [
    "#for i in range(8):\n",
    "#    plot2(AH_1[i], AH_2[i],('前','中'), unit[i], \"A\", \"HRV 第一次\", \"HRV-1\")\n",
    "#    plot2(AH_4[i], AH_5[i],('前','中'), unit[i], \"A\", \"HRV 第二次\", \"HRV-2\")"
   ]
  },
  {
   "cell_type": "code",
   "execution_count": 29,
   "id": "993d3e11",
   "metadata": {},
   "outputs": [],
   "source": [
    "#for i in range(8):\n",
    "#    plot2(AH_2[i], AH_3[i],('中','後'), unit[i], \"A\", \"HRV 第一次\", \"HRV-3\")\n",
    "#    plot2(AH_5[i], AH_6[i],('中','後'), unit[i], \"A\", \"HRV 第二次\", \"HRV-4\")\n",
    "    "
   ]
  },
  {
   "cell_type": "code",
   "execution_count": 30,
   "id": "08915a72",
   "metadata": {},
   "outputs": [],
   "source": [
    "#for i in range(8):\n",
    "#    plot2(AH_1[i], AH_3[i],('前','後'), unit[i], \"A\", \"HRV 第一次\", \"HRV-5\")\n",
    "#    plot2(AH_4[i], AH_6[i],('前','後'), unit[i], \"A\", \"HRV 第二次\", \"HRV-6\")"
   ]
  },
  {
   "cell_type": "code",
   "execution_count": 31,
   "id": "4ec6a47e",
   "metadata": {},
   "outputs": [],
   "source": [
    "def plot_total2(y, text, save):\n",
    "    font1 = font(fname= \"/Users/jielinglee/Downloads/TaipeiSansTCBeta-Regular.ttf\")\n",
    "    plt.rcParams['font.size']=20\n",
    "\n",
    "    objects = ('前','中','後')\n",
    "    \n",
    " \n",
    "    plt.figure(figsize=(8.5, 4.5))\n",
    "    y_pos = (0.5, 2.5, 4.5)\n",
    "\n",
    "    plt.title(text, fontproperties=font1)\n",
    "    plt.plot(y_pos, y, 'o-', color='red', alpha= 0.5)\n",
    "    plt.boxplot([y[0], y[1], y[2]], positions= y_pos, sym='')\n",
    "    plt.ylabel('', fontproperties=font1)\n",
    "    plt.xlim(0,5)\n",
    "    plt.xticks(y_pos, objects, fontproperties=font1)\n",
    "    plt.savefig(save+\".png\")\n",
    "    plt.show()\n"
   ]
  },
  {
   "cell_type": "code",
   "execution_count": null,
   "id": "0a78d854",
   "metadata": {},
   "outputs": [],
   "source": []
  },
  {
   "cell_type": "code",
   "execution_count": 32,
   "id": "87ff37bd",
   "metadata": {},
   "outputs": [
    {
     "name": "stdout",
     "output_type": "stream",
     "text": [
      "C面膜\n",
      "\n",
      "比較前和中\n",
      "SDNN\n",
      "第一次： Paired T-test Results\n",
      "TtestResult(statistic=-1.8058570701551988, pvalue=0.14524534515368434, df=4)\n",
      "第二次： Paired T-test Results\n",
      "TtestResult(statistic=-1.2317134514657393, pvalue=0.28551578029409896, df=4)\n",
      "\n",
      "RMSSD\n",
      "第一次： Paired T-test Results\n",
      "TtestResult(statistic=1.4529663145135578, pvalue=0.21989039279811093, df=4)\n",
      "第二次： Paired T-test Results\n",
      "TtestResult(statistic=-1.2004900959975617, pvalue=0.296181029336144, df=4)\n",
      "\n",
      "ANS\n",
      "第一次： Paired T-test Results\n",
      "TtestResult(statistic=1.2211538047713582, pvalue=0.28908143047310253, df=4)\n",
      "第二次： Paired T-test Results\n",
      "TtestResult(statistic=0.4458544424732421, pvalue=0.6787714661891912, df=4)\n",
      "\n",
      "TP\n",
      "第一次： Paired T-test Results\n",
      "TtestResult(statistic=0.19373605261506568, pvalue=0.8558230686019118, df=4)\n",
      "第二次： Paired T-test Results\n",
      "TtestResult(statistic=-1.1626753244019683, pvalue=0.30959893111884407, df=4)\n",
      "\n",
      "Balance\n",
      "第一次： Paired T-test Results\n",
      "TtestResult(statistic=0.09338266086514525, pvalue=0.93008995233434, df=4)\n",
      "第二次： Paired T-test Results\n",
      "TtestResult(statistic=-0.37224491287373085, pvalue=0.7285931223284774, df=4)\n",
      "\n",
      "SYM(調整)\n",
      "第一次： Paired T-test Results\n",
      "TtestResult(statistic=-0.8246708769500929, pvalue=0.4558955802691363, df=4)\n",
      "第二次： Paired T-test Results\n",
      "TtestResult(statistic=0.7454298596020885, pvalue=0.49743086302527156, df=4)\n",
      "\n",
      "VAG(調整)\n",
      "第一次： Paired T-test Results\n",
      "TtestResult(statistic=1.4512550247910554, pvalue=0.22033571680870193, df=4)\n",
      "第二次： Paired T-test Results\n",
      "TtestResult(statistic=0.5004651860567333, pvalue=0.6430301807552753, df=4)\n",
      "\n",
      "ANS(調整)\n",
      "第一次： Paired T-test Results\n",
      "TtestResult(statistic=1.2563647077710274, pvalue=0.27735389684173933, df=4)\n",
      "第二次： Paired T-test Results\n",
      "TtestResult(statistic=0.8616948384992799, pvalue=0.4374487103927833, df=4)\n",
      "\n",
      "\n"
     ]
    }
   ],
   "source": [
    "print('C面膜')\n",
    "print('')\n",
    "# 5,6,5,5\n",
    "print('比較前和中')\n",
    "CH_1, CH_2, CH_4, CH_5= result2(item2, 8, 5, 5, data_HRV[12][2:], data_HRV[13][2:], data_HRV[16][2:], data_HRV[17][2:], [5,5,5,5])\n",
    "print('')\n",
    "\n",
    "#for i in range(4):\n",
    "#    plot2(CH_1[i], CH_2[i],('前','中'), unit[i], \"C\", \"HRV 第一次\", \"HRV-1\")\n",
    "#    plot2(CH_4[i], CH_5[i],('前','中'), unit[i], \"C\", \"HRV 第二次\", \"HRV-2\")"
   ]
  },
  {
   "cell_type": "code",
   "execution_count": 33,
   "id": "04e66260",
   "metadata": {},
   "outputs": [
    {
     "name": "stdout",
     "output_type": "stream",
     "text": [
      "比較中和後\n",
      "SDNN\n",
      "第一次： Paired T-test Results\n",
      "TtestResult(statistic=-1.1619767157947116, pvalue=0.30985206917575997, df=4)\n",
      "第二次： Paired T-test Results\n",
      "TtestResult(statistic=-0.3306813878745958, pvalue=0.757481404980398, df=4)\n",
      "\n",
      "RMSSD\n",
      "第一次： Paired T-test Results\n",
      "TtestResult(statistic=0.30151134457776363, pvalue=0.7780495489000209, df=4)\n",
      "第二次： Paired T-test Results\n",
      "TtestResult(statistic=-0.08821621827824619, pvalue=0.9339448844247209, df=4)\n",
      "\n",
      "ANS\n",
      "第一次： Paired T-test Results\n",
      "TtestResult(statistic=-3.8476532447885803, pvalue=0.018339284833495124, df=4)\n",
      "第二次： Paired T-test Results\n",
      "TtestResult(statistic=-0.1633909790703539, pvalue=0.8781335835772907, df=4)\n",
      "\n",
      "TP\n",
      "第一次： Paired T-test Results\n",
      "TtestResult(statistic=-2.362582804579148, pvalue=0.07744445540539277, df=4)\n",
      "第二次： Paired T-test Results\n",
      "TtestResult(statistic=0.1358837301902827, pvalue=0.8984773443666816, df=4)\n",
      "\n",
      "Balance\n",
      "第一次： Paired T-test Results\n",
      "TtestResult(statistic=-1.3742370011804472, pvalue=0.24133940149124414, df=4)\n",
      "第二次： Paired T-test Results\n",
      "TtestResult(statistic=0.5219312831084971, pvalue=0.6292866775123087, df=4)\n",
      "\n",
      "SYM(調整)\n",
      "第一次： Paired T-test Results\n",
      "TtestResult(statistic=-2.2296670564807184, pvalue=0.08964405263471002, df=4)\n",
      "第二次： Paired T-test Results\n",
      "TtestResult(statistic=-0.18173751576081357, pvalue=0.8646266970237442, df=4)\n",
      "\n",
      "VAG(調整)\n",
      "第一次： Paired T-test Results\n",
      "TtestResult(statistic=-0.29875271984342394, pvalue=0.780006474979769, df=4)\n",
      "第二次： Paired T-test Results\n",
      "TtestResult(statistic=-0.6963322104990888, pvalue=0.5245637390458769, df=4)\n",
      "\n",
      "ANS(調整)\n",
      "第一次： Paired T-test Results\n",
      "TtestResult(statistic=-4.951797271196608, pvalue=0.0077512676052588665, df=4)\n",
      "第二次： Paired T-test Results\n",
      "TtestResult(statistic=-0.9967442401928938, pvalue=0.3753010219486265, df=4)\n",
      "\n",
      "\n"
     ]
    }
   ],
   "source": [
    "print('比較中和後')\n",
    "CH_2, CH_3, CH_5, CH_6= result2(item2, 8, 5, 5, data_HRV[13][2:], data_HRV[14][2:], data_HRV[17][2:], data_HRV[18][2:], [5,5,5,5])\n",
    "print('')\n",
    "#for i in range(4):\n",
    "#    plot2(CH_2[i], CH_3[i],('中','後'), unit[i], \"C\", \"HRV 第一次\", \"HRV-3\")\n",
    "#    plot2(CH_5[i], CH_6[i],('中','後'), unit[i], \"C\", \"HRV 第二次\", \"HRV-4\")"
   ]
  },
  {
   "cell_type": "code",
   "execution_count": 34,
   "id": "2b27fe3f",
   "metadata": {},
   "outputs": [
    {
     "name": "stdout",
     "output_type": "stream",
     "text": [
      "比較前和後\n",
      "SDNN\n",
      "第一次： Paired T-test Results\n",
      "TtestResult(statistic=-3.485495280304308, pvalue=0.025225762481820718, df=4)\n",
      "第二次： Paired T-test Results\n",
      "TtestResult(statistic=-1.4777060258248278, pvalue=0.2135528085372133, df=4)\n",
      "\n",
      "RMSSD\n",
      "第一次： Paired T-test Results\n",
      "TtestResult(statistic=1.5511334686589624, pvalue=0.19581234768294434, df=4)\n",
      "第二次： Paired T-test Results\n",
      "TtestResult(statistic=-0.9626563178367472, pvalue=0.3902343330303706, df=4)\n",
      "\n",
      "ANS\n",
      "第一次： Paired T-test Results\n",
      "TtestResult(statistic=-0.6542956808462909, pvalue=0.5486324617609935, df=4)\n",
      "第二次： Paired T-test Results\n",
      "TtestResult(statistic=0.003796251843040615, pvalue=0.9971528196660919, df=4)\n",
      "\n",
      "TP\n",
      "第一次： Paired T-test Results\n",
      "TtestResult(statistic=-0.7064937182227184, pvalue=0.5188611202955254, df=4)\n",
      "第二次： Paired T-test Results\n",
      "TtestResult(statistic=-0.1606358348729652, pvalue=0.8801664274009189, df=4)\n",
      "\n",
      "Balance\n",
      "第一次： Paired T-test Results\n",
      "TtestResult(statistic=-0.4475601532768701, pvalue=0.6776387779823516, df=4)\n",
      "第二次： Paired T-test Results\n",
      "TtestResult(statistic=0.1916548707757173, pvalue=0.8573483112068685, df=4)\n",
      "\n",
      "SYM(調整)\n",
      "第一次： Paired T-test Results\n",
      "TtestResult(statistic=-2.5952408841987196, pvalue=0.060349749143601854, df=4)\n",
      "第二次： Paired T-test Results\n",
      "TtestResult(statistic=0.2058790548922548, pvalue=0.8469392126206742, df=4)\n",
      "\n",
      "VAG(調整)\n",
      "第一次： Paired T-test Results\n",
      "TtestResult(statistic=1.6874040052131254, pvalue=0.1667999081777025, df=4)\n",
      "第二次： Paired T-test Results\n",
      "TtestResult(statistic=-0.012995783552244922, pvalue=0.9902535052679495, df=4)\n",
      "\n",
      "ANS(調整)\n",
      "第一次： Paired T-test Results\n",
      "TtestResult(statistic=-0.8059538113046423, pvalue=0.46545390383405705, df=4)\n",
      "第二次： Paired T-test Results\n",
      "TtestResult(statistic=0.1313407478826158, pvalue=0.9018468558175531, df=4)\n",
      "\n"
     ]
    }
   ],
   "source": [
    "print('比較前和後')\n",
    "CH_1, CH_3, CH_4, CH_6= result2(item2, 8, 5, 5, data_HRV[12][2:], data_HRV[14][2:], data_HRV[16][2:], data_HRV[18][2:], [5,5,5,5])\n",
    "\n",
    "#for i in range(4):\n",
    "#    plot2(CH_1[i], CH_3[i],('前','後'), unit[i], \"C\", \"HRV 第一次\", \"HRV-5\")\n",
    "#    plot2(CH_4[i], CH_6[i],('前','後'), unit[i], \"C\", \"HRV 第二次\", \"HRV-6\")"
   ]
  },
  {
   "cell_type": "code",
   "execution_count": null,
   "id": "87a1797e",
   "metadata": {},
   "outputs": [],
   "source": []
  },
  {
   "cell_type": "code",
   "execution_count": 35,
   "id": "1cd0ba11",
   "metadata": {},
   "outputs": [],
   "source": [
    "def result3(item, no, t1, t2, Ab, Aa, Cb, Ca):\n",
    "    A_B= np.zeros((no, t1))\n",
    "    A_A= np.zeros((no, t1))\n",
    "    C_B= np.zeros((no, t1))\n",
    "    C_A= np.zeros((no, t1))\n",
    "    n=0\n",
    "    for i in range(no):\n",
    "        A_before2_1= Ab[0+n:t1+n].astype(float)\n",
    "        A_after2_1= Aa[0+n:t1+n].astype(float)\n",
    "        C_before2_1= Cb[0+n:t2+n].astype(float)\n",
    "        C_after2_1= Ca[0+n:t2+n].astype(float)\n",
    "        \n",
    "        A_B[i, :]= A_before2_1\n",
    "        A_A[i, :]= A_after2_1\n",
    "        C_B[i, :]= C_before2_1\n",
    "        C_A[i, :]= C_after2_1\n",
    "        \n",
    "        print(item[i])\n",
    "        print('面膜A： Paired T-test Results')\n",
    "        result_Ap= stats.ttest_rel(A_before2_1, A_after2_1)\n",
    "        print(result_Ap)\n",
    "        print('面膜C： Paired T-test Results')\n",
    "        result_Cp= stats.ttest_rel(C_before2_1, C_after2_1)\n",
    "        print(result_Cp)\n",
    "        print('')\n",
    "\n",
    "        n+= 8\n",
    "    return A_B, A_A, C_B, C_A"
   ]
  },
  {
   "cell_type": "code",
   "execution_count": 36,
   "id": "c1089c45",
   "metadata": {},
   "outputs": [
    {
     "name": "stdout",
     "output_type": "stream",
     "text": [
      "第一次前和第二次後\n",
      "SDNN\n",
      "面膜A： Paired T-test Results\n",
      "TtestResult(statistic=0.16117898594930044, pvalue=0.879765582100132, df=4)\n",
      "面膜C： Paired T-test Results\n",
      "TtestResult(statistic=-1.3772574915171982, pvalue=0.2404793852875553, df=4)\n",
      "\n",
      "RMSSD\n",
      "面膜A： Paired T-test Results\n",
      "TtestResult(statistic=0.6070237802074278, pvalue=0.5766045964104635, df=4)\n",
      "面膜C： Paired T-test Results\n",
      "TtestResult(statistic=0.1500440244760039, pvalue=0.887991689349794, df=4)\n",
      "\n",
      "ANS\n",
      "面膜A： Paired T-test Results\n",
      "TtestResult(statistic=-1.045350165203839, pvalue=0.3548696943225924, df=4)\n",
      "面膜C： Paired T-test Results\n",
      "TtestResult(statistic=2.1080932655896087, pvalue=0.10271106515117308, df=4)\n",
      "\n",
      "TP\n",
      "面膜A： Paired T-test Results\n",
      "TtestResult(statistic=-0.20254539055187643, pvalue=0.8493754633800898, df=4)\n",
      "面膜C： Paired T-test Results\n",
      "TtestResult(statistic=1.8141502858352392, pvalue=0.14385158704404977, df=4)\n",
      "\n",
      "Balance\n",
      "面膜A： Paired T-test Results\n",
      "TtestResult(statistic=0.39580124951146933, pvalue=0.7124550821381297, df=4)\n",
      "面膜C： Paired T-test Results\n",
      "TtestResult(statistic=0.60724217414596, pvalue=0.5764731969685888, df=4)\n",
      "\n",
      "SYM(調整)\n",
      "面膜A： Paired T-test Results\n",
      "TtestResult(statistic=-1.064514426039421, pvalue=0.3470885716532194, df=4)\n",
      "面膜C： Paired T-test Results\n",
      "TtestResult(statistic=-0.19752079522515964, pvalue=0.8530512884471396, df=4)\n",
      "\n",
      "VAG(調整)\n",
      "面膜A： Paired T-test Results\n",
      "TtestResult(statistic=0.12718832273022435, pvalue=0.9049288844402341, df=4)\n",
      "面膜C： Paired T-test Results\n",
      "TtestResult(statistic=1.5735787192493038, pvalue=0.19069586544753397, df=4)\n",
      "\n",
      "ANS(調整)\n",
      "面膜A： Paired T-test Results\n",
      "TtestResult(statistic=-1.030294820977816, pvalue=0.36109083225302335, df=4)\n",
      "面膜C： Paired T-test Results\n",
      "TtestResult(statistic=2.1797952314609472, pvalue=0.0947661928333987, df=4)\n",
      "\n"
     ]
    }
   ],
   "source": [
    "print('第一次前和第二次後')\n",
    "A_B1_4, A_A1_4, C_B2_4, C_A2_4= result3(item2, 8, 5, 5, data_HRV[3][2:], data_HRV[8][2:], data_HRV[12][2:], data_HRV[18][2:])"
   ]
  },
  {
   "cell_type": "code",
   "execution_count": 37,
   "id": "0e27083d",
   "metadata": {},
   "outputs": [],
   "source": [
    "#for i in range(8):\n",
    "#    plot2(AH_1[i], AH_6[i],('第一次','第二次'), unit[i], \"A\", \"HRV\", \"HRV-7\")\n",
    "#    plot2(CH_1[i], CH_6[i],('第一次','第二次'), unit[i], \"C\", \"HRV\", \"HRV-8\")"
   ]
  },
  {
   "cell_type": "code",
   "execution_count": 38,
   "id": "796d304e",
   "metadata": {},
   "outputs": [],
   "source": [
    "def plot_HRV(B1, M1, A1, B2, M2, A2, text, unit):\n",
    "    font1 = font(fname= \"/Users/jielinglee/Downloads/TaipeiSansTCBeta-Regular.ttf\")\n",
    "    plt.rcParams['font.size']=16\n",
    "\n",
    "    objects1=('第一次（前）', '第一次（中）', '第一次（後）')\n",
    "    objects2= ('第二次（前）', '第二次（中）', '第二次（後）')\n",
    "    y1= [np.mean(B1), np.mean(M1), np.mean(A1)]\n",
    "    y2= [np.mean(B2), np.mean(M2), np.mean(A2)]\n",
    "\n",
    "    y_pos1 = (1, 1.5, 2)\n",
    "    y_pos2= (2.5, 3, 3.5)\n",
    "\n",
    "    yerr1= [np.std(B1), np.std(M1), np.std(A1)]\n",
    "    yerr2= [np.std(B2), np.std(M2), np.std(A2)]\n",
    "\n",
    "    fig, ax = plt.subplots(figsize = (8, 5))\n",
    "    ax.set_title('HRV比較（'+text+'面膜）', fontproperties=font1)\n",
    "    ax.bar(y_pos1, y1, width = 0.3, align='center', alpha=0.5, color='#FFB703')\n",
    "    \n",
    "    ax.bar(y_pos2, y2, width = 0.3, align='center', alpha=0.5, color='#219EBC')\n",
    "    ax.errorbar(y_pos1, y1, yerr=yerr1, fmt=\".\", color=\"black\", capsize=4)\n",
    "    ax.errorbar(y_pos2, y2, yerr=yerr2, fmt=\".\", color=\"black\", capsize=4)\n",
    "    ax.set_ylabel(unit, fontproperties=font1)\n",
    "    ax.set_xticks(y_pos1+y_pos2, objects1+objects2, fontproperties=font1, rotation=15)\n",
    "    \n",
    "    plt.savefig(\"HRV_all\" +str(i)+ text+\".png\")\n",
    "    plt.show()"
   ]
  },
  {
   "cell_type": "code",
   "execution_count": 39,
   "id": "858fd612",
   "metadata": {},
   "outputs": [],
   "source": [
    "#for i in range(8):\n",
    "#    plot_HRV(AH_1[i], AH_2[i], AH_3[i], AH_4[i], AH_5[i], AH_6[i], 'A', unit[i])"
   ]
  },
  {
   "cell_type": "code",
   "execution_count": null,
   "id": "17a3700c",
   "metadata": {},
   "outputs": [],
   "source": []
  },
  {
   "cell_type": "code",
   "execution_count": 40,
   "id": "31a649aa",
   "metadata": {},
   "outputs": [],
   "source": [
    "#for i in range(8):\n",
    "#    plot_HRV(CH_1[i], CH_2[i], CH_3[i], CH_4[i], CH_5[i], CH_6[i], 'C', unit[i])"
   ]
  },
  {
   "cell_type": "code",
   "execution_count": null,
   "id": "348df487",
   "metadata": {},
   "outputs": [],
   "source": []
  }
 ],
 "metadata": {
  "kernelspec": {
   "display_name": "Python 3 (ipykernel)",
   "language": "python",
   "name": "python3"
  },
  "language_info": {
   "codemirror_mode": {
    "name": "ipython",
    "version": 3
   },
   "file_extension": ".py",
   "mimetype": "text/x-python",
   "name": "python",
   "nbconvert_exporter": "python",
   "pygments_lexer": "ipython3",
   "version": "3.9.13"
  }
 },
 "nbformat": 4,
 "nbformat_minor": 5
}
