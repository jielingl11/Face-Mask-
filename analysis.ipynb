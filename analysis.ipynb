{
 "cells": [
  {
   "cell_type": "code",
   "execution_count": 15,
   "id": "80771610",
   "metadata": {},
   "outputs": [],
   "source": [
    "import numpy as np \n",
    "import pandas as pd\n",
    "import matplotlib.pyplot as plt"
   ]
  },
  {
   "cell_type": "code",
   "execution_count": 3,
   "id": "1fd1fce7",
   "metadata": {},
   "outputs": [],
   "source": [
    "# ESS嗜睡問卷調查\n",
    "data_ESS = pd.read_csv('ESS.csv')\n",
    "data_ESS = data_ESS.drop(data_ESS.columns[[0, 1, 4, 5]], axis = 1)\n",
    "data_ESS.columns.values[0] = \"A_before\"\n",
    "data_ESS.columns.values[1] = \"A_after\"\n",
    "data_ESS.columns.values[2] = \"C_before\"\n",
    "data_ESS.columns.values[3] = \"C_after\""
   ]
  },
  {
   "cell_type": "code",
   "execution_count": 4,
   "id": "e22896be",
   "metadata": {},
   "outputs": [
    {
     "data": {
      "text/html": [
       "<div>\n",
       "<style scoped>\n",
       "    .dataframe tbody tr th:only-of-type {\n",
       "        vertical-align: middle;\n",
       "    }\n",
       "\n",
       "    .dataframe tbody tr th {\n",
       "        vertical-align: top;\n",
       "    }\n",
       "\n",
       "    .dataframe thead th {\n",
       "        text-align: right;\n",
       "    }\n",
       "</style>\n",
       "<table border=\"1\" class=\"dataframe\">\n",
       "  <thead>\n",
       "    <tr style=\"text-align: right;\">\n",
       "      <th></th>\n",
       "      <th>A_before</th>\n",
       "      <th>A_after</th>\n",
       "      <th>C_before</th>\n",
       "      <th>C_after</th>\n",
       "    </tr>\n",
       "  </thead>\n",
       "  <tbody>\n",
       "    <tr>\n",
       "      <th>0</th>\n",
       "      <td>8</td>\n",
       "      <td>1</td>\n",
       "      <td>8</td>\n",
       "      <td>5</td>\n",
       "    </tr>\n",
       "    <tr>\n",
       "      <th>1</th>\n",
       "      <td>7</td>\n",
       "      <td>4</td>\n",
       "      <td>8</td>\n",
       "      <td>4</td>\n",
       "    </tr>\n",
       "    <tr>\n",
       "      <th>2</th>\n",
       "      <td>0</td>\n",
       "      <td>6</td>\n",
       "      <td>4</td>\n",
       "      <td>2</td>\n",
       "    </tr>\n",
       "    <tr>\n",
       "      <th>3</th>\n",
       "      <td>7</td>\n",
       "      <td>3</td>\n",
       "      <td>7</td>\n",
       "      <td>8</td>\n",
       "    </tr>\n",
       "    <tr>\n",
       "      <th>4</th>\n",
       "      <td>13</td>\n",
       "      <td>11</td>\n",
       "      <td>6</td>\n",
       "      <td>3</td>\n",
       "    </tr>\n",
       "  </tbody>\n",
       "</table>\n",
       "</div>"
      ],
      "text/plain": [
       "   A_before  A_after  C_before  C_after\n",
       "0         8        1         8        5\n",
       "1         7        4         8        4\n",
       "2         0        6         4        2\n",
       "3         7        3         7        8\n",
       "4        13       11         6        3"
      ]
     },
     "execution_count": 4,
     "metadata": {},
     "output_type": "execute_result"
    }
   ],
   "source": [
    "data_ESS"
   ]
  },
  {
   "cell_type": "code",
   "execution_count": 5,
   "id": "24383724",
   "metadata": {},
   "outputs": [],
   "source": [
    "A_before= np.array(data_ESS['A_before'])\n",
    "A_after= np.array(data_ESS['A_after'])\n",
    "C_before= np.array(data_ESS['C_before'])\n",
    "C_after= np.array(data_ESS['C_after'])"
   ]
  },
  {
   "cell_type": "code",
   "execution_count": 6,
   "id": "c7b5f200",
   "metadata": {},
   "outputs": [
    {
     "data": {
      "text/plain": [
       "Text(0, 0.5, 'Frequency')"
      ]
     },
     "execution_count": 6,
     "metadata": {},
     "output_type": "execute_result"
    },
    {
     "data": {
      "image/png": "[encoded data removed]",
      "text/plain": [
       "<Figure size 504x360 with 1 Axes>"
      ]
     },
     "metadata": {
      "needs_background": "light"
     },
     "output_type": "display_data"
    }
   ],
   "source": [
    "from scipy import stats\n",
    "diff_A= A_after- A_before\n",
    "diff_C= C_after- C_before\n",
    "\n",
    "fig = plt.figure(figsize=(7,5))   \n",
    "plt.hist(diff_A, bins=10) \n",
    "plt.xlabel('Score')\n",
    "plt.ylabel('Frequency')\n",
    "#plt.axvline(x=np.mean(difference), c ='r')\n",
    "#plt.text(np.mean(difference)-2, 9, round(np.mean(difference),3), c='r')\n"
   ]
  },
  {
   "cell_type": "code",
   "execution_count": 7,
   "id": "2d43fd25",
   "metadata": {},
   "outputs": [
    {
     "name": "stdout",
     "output_type": "stream",
     "text": [
      "Paired T-test Results for A\n",
      "TtestResult(statistic=0.9225312080288851, pvalue=0.40846070846523685, df=4)\n",
      "\n",
      "Paired T-test Results for C\n",
      "TtestResult(statistic=2.5574480523640246, pvalue=0.06280761100070112, df=4)\n"
     ]
    }
   ],
   "source": [
    "# Paired T-test\n",
    "result_Ap= stats.ttest_rel(A_before, A_after)\n",
    "result_Cp= stats.ttest_rel(C_before, C_after)\n",
    "\n",
    "print('Paired T-test Results for A')\n",
    "print(result_Ap)\n",
    "print('')\n",
    "print('Paired T-test Results for C')\n",
    "print(result_Cp)"
   ]
  },
  {
   "cell_type": "code",
   "execution_count": 8,
   "id": "ee1c4c76",
   "metadata": {},
   "outputs": [
    {
     "name": "stdout",
     "output_type": "stream",
     "text": [
      "Wilcoxon Results for A\n",
      "WilcoxonResult(statistic=4.0, pvalue=0.21875)\n",
      "\n",
      "Wilcoxon Results for C\n",
      "WilcoxonResult(statistic=1.0, pvalue=0.0625)\n"
     ]
    }
   ],
   "source": [
    "# Wilcoxon signed-rank test\n",
    "from scipy.stats import wilcoxon\n",
    "result_Aw= wilcoxon(diff_A, alternative='less')\n",
    "result_Cw= wilcoxon(diff_C, alternative='less')\n",
    "\n",
    "print('Wilcoxon Results for A')\n",
    "print(result_Aw)\n",
    "print('')\n",
    "print('Wilcoxon Results for C')\n",
    "print(result_Cw)"
   ]
  },
  {
   "cell_type": "code",
   "execution_count": 9,
   "id": "f599300c",
   "metadata": {},
   "outputs": [],
   "source": [
    "# Pittsburge "
   ]
  },
  {
   "cell_type": "code",
   "execution_count": 10,
   "id": "fb81be8f",
   "metadata": {},
   "outputs": [],
   "source": [
    "data_Pit = np.loadtxt('Pittsburge.csv', delimiter=',', skiprows= 1, dtype= str, unpack= True)"
   ]
  },
  {
   "cell_type": "code",
   "execution_count": 11,
   "id": "d60ef386",
   "metadata": {},
   "outputs": [],
   "source": [
    "# 匹茲堡睡眠品質量表\n",
    "\n",
    "item= ['睡眠品質', '睡眠潛伏期', '睡眠時數', '睡眠效率', '睡眠困擾', '安眠藥物使用', '日見活動失能', '總分'] \n",
    "\n",
    "\n",
    "def result(item, no, Ab, Aa, Cb, Ca):\n",
    "    n=0\n",
    "    for i in range(no):\n",
    "        A_before2_1= Ab[0+n:5+n].astype(float)\n",
    "        A_after2_1= Aa[0+n:5+n].astype(float)\n",
    "        C_before2_1= Cb[0+n:5+n].astype(float)\n",
    "        C_after2_1= Ca[0+n:5+n].astype(float)\n",
    "\n",
    "        print(item[i])\n",
    "        print('Paired T-test Results for A')\n",
    "        result_Ap= stats.ttest_rel(A_before2_1, A_after2_1)\n",
    "        print(result_Ap)\n",
    "        print('Paired T-test Results for C')\n",
    "        result_Cp= stats.ttest_rel(C_before2_1, C_after2_1)\n",
    "        print(result_Cp)\n",
    "        print('')\n",
    "\n",
    "        try:\n",
    "            print('Wilcoxon Results for A')\n",
    "            result_Aw= wilcoxon(A_before2_1, A_after2_1, alternative='less')\n",
    "            print(result_Ap)\n",
    "            print('Wilcoxon Results for C')\n",
    "            result_Cw= wilcoxon(C_before2_1, C_after2_1, alternative='less')\n",
    "            print(result_Cp)\n",
    "\n",
    "        except ValueError:\n",
    "            print('前後組沒有差異，無法比較')\n",
    "\n",
    "        print('')\n",
    "        n+= 7"
   ]
  },
  {
   "cell_type": "code",
   "execution_count": 12,
   "id": "dcd90256",
   "metadata": {},
   "outputs": [
    {
     "name": "stdout",
     "output_type": "stream",
     "text": [
      "睡眠品質\n",
      "Paired T-test Results for A\n",
      "TtestResult(statistic=-1.632993161855452, pvalue=0.17780780835622126, df=4)\n",
      "Paired T-test Results for C\n",
      "TtestResult(statistic=nan, pvalue=nan, df=4)\n",
      "\n",
      "Wilcoxon Results for A\n",
      "TtestResult(statistic=-1.632993161855452, pvalue=0.17780780835622126, df=4)\n",
      "Wilcoxon Results for C\n",
      "前後組沒有差異，無法比較\n",
      "\n",
      "睡眠潛伏期\n",
      "Paired T-test Results for A\n",
      "TtestResult(statistic=-0.9999999999999999, pvalue=0.373900966300059, df=4)\n",
      "Paired T-test Results for C\n",
      "TtestResult(statistic=-0.9999999999999999, pvalue=0.373900966300059, df=4)\n",
      "\n",
      "Wilcoxon Results for A\n",
      "TtestResult(statistic=-0.9999999999999999, pvalue=0.373900966300059, df=4)\n",
      "Wilcoxon Results for C\n",
      "TtestResult(statistic=-0.9999999999999999, pvalue=0.373900966300059, df=4)\n",
      "\n",
      "睡眠時數\n",
      "Paired T-test Results for A\n",
      "TtestResult(statistic=-0.9999999999999999, pvalue=0.373900966300059, df=4)\n",
      "Paired T-test Results for C\n",
      "TtestResult(statistic=0.5345224838248488, pvalue=0.6213082950374971, df=4)\n",
      "\n",
      "Wilcoxon Results for A\n",
      "TtestResult(statistic=-0.9999999999999999, pvalue=0.373900966300059, df=4)\n",
      "Wilcoxon Results for C\n",
      "TtestResult(statistic=0.5345224838248488, pvalue=0.6213082950374971, df=4)\n",
      "\n",
      "睡眠效率\n",
      "Paired T-test Results for A\n",
      "TtestResult(statistic=-0.9999999999999999, pvalue=0.373900966300059, df=4)\n",
      "Paired T-test Results for C\n",
      "TtestResult(statistic=1.3719886811400706, pvalue=0.24198153056802083, df=4)\n",
      "\n",
      "Wilcoxon Results for A\n",
      "TtestResult(statistic=-0.9999999999999999, pvalue=0.373900966300059, df=4)\n",
      "Wilcoxon Results for C\n",
      "TtestResult(statistic=1.3719886811400706, pvalue=0.24198153056802083, df=4)\n",
      "\n",
      "睡眠困擾\n",
      "Paired T-test Results for A\n",
      "TtestResult(statistic=-1.632993161855452, pvalue=0.17780780835622126, df=4)\n",
      "Paired T-test Results for C\n",
      "TtestResult(statistic=0.0, pvalue=1.0, df=4)\n",
      "\n",
      "Wilcoxon Results for A\n",
      "TtestResult(statistic=-1.632993161855452, pvalue=0.17780780835622126, df=4)\n",
      "Wilcoxon Results for C\n",
      "TtestResult(statistic=0.0, pvalue=1.0, df=4)\n",
      "\n",
      "安眠藥物使用\n",
      "Paired T-test Results for A\n",
      "TtestResult(statistic=-0.4082482904638631, pvalue=0.704, df=4)\n",
      "Paired T-test Results for C\n",
      "TtestResult(statistic=1.5, pvalue=0.20799999999999982, df=4)\n",
      "\n",
      "Wilcoxon Results for A\n",
      "TtestResult(statistic=-0.4082482904638631, pvalue=0.704, df=4)\n",
      "Wilcoxon Results for C\n",
      "TtestResult(statistic=1.5, pvalue=0.20799999999999982, df=4)\n",
      "\n",
      "日見活動失能\n",
      "Paired T-test Results for A\n",
      "TtestResult(statistic=-1.632993161855452, pvalue=0.17780780835622126, df=4)\n",
      "Paired T-test Results for C\n",
      "TtestResult(statistic=2.449489742783178, pvalue=0.07048399691021993, df=4)\n",
      "\n",
      "Wilcoxon Results for A\n",
      "TtestResult(statistic=-1.632993161855452, pvalue=0.17780780835622126, df=4)\n",
      "Wilcoxon Results for C\n",
      "TtestResult(statistic=2.449489742783178, pvalue=0.07048399691021993, df=4)\n",
      "\n",
      "總分\n",
      "Paired T-test Results for A\n",
      "TtestResult(statistic=-2.0, pvalue=0.1161165235168155, df=4)\n",
      "Paired T-test Results for C\n",
      "TtestResult(statistic=1.9069251784911845, pvalue=0.12920298463941007, df=4)\n",
      "\n",
      "Wilcoxon Results for A\n",
      "TtestResult(statistic=-2.0, pvalue=0.1161165235168155, df=4)\n",
      "Wilcoxon Results for C\n",
      "TtestResult(statistic=1.9069251784911845, pvalue=0.12920298463941007, df=4)\n",
      "\n"
     ]
    },
    {
     "name": "stderr",
     "output_type": "stream",
     "text": [
      "/Users/jielinglee/opt/anaconda3/lib/python3.9/site-packages/scipy/stats/_morestats.py:3414: UserWarning: Exact p-value calculation does not work if there are zeros. Switching to normal approximation.\n",
      "  warnings.warn(\"Exact p-value calculation does not work if there are \"\n",
      "/Users/jielinglee/opt/anaconda3/lib/python3.9/site-packages/scipy/stats/_morestats.py:3428: UserWarning: Sample size too small for normal approximation.\n",
      "  warnings.warn(\"Sample size too small for normal approximation.\")\n"
     ]
    }
   ],
   "source": [
    "result(item[:4], 4, data_Pit[3], data_Pit[4], data_Pit[7], data_Pit[8])\n",
    "result(item[4:], 4, data_Pit[12], data_Pit[13], data_Pit[16], data_Pit[17])"
   ]
  },
  {
   "cell_type": "code",
   "execution_count": 13,
   "id": "bd544245",
   "metadata": {},
   "outputs": [],
   "source": [
    "# SF-36\n",
    "data_SF36= np.loadtxt('SF36.csv', delimiter=',', skiprows= 1, dtype= str, unpack= True)"
   ]
  },
  {
   "cell_type": "code",
   "execution_count": 14,
   "id": "2a36636d",
   "metadata": {},
   "outputs": [
    {
     "name": "stdout",
     "output_type": "stream",
     "text": [
      "生理功能\n",
      "Paired T-test Results for A\n",
      "TtestResult(statistic=-2.4494897427831783, pvalue=0.07048399691021993, df=4)\n",
      "Paired T-test Results for C\n",
      "TtestResult(statistic=-1.0, pvalue=0.373900966300059, df=4)\n",
      "\n",
      "Wilcoxon Results for A\n",
      "TtestResult(statistic=-2.4494897427831783, pvalue=0.07048399691021993, df=4)\n",
      "Wilcoxon Results for C\n",
      "TtestResult(statistic=-1.0, pvalue=0.373900966300059, df=4)\n",
      "\n",
      "生理職能\n",
      "Paired T-test Results for A\n",
      "TtestResult(statistic=1.0, pvalue=0.373900966300059, df=4)\n",
      "Paired T-test Results for C\n",
      "TtestResult(statistic=1.0, pvalue=0.373900966300059, df=4)\n",
      "\n",
      "Wilcoxon Results for A\n",
      "TtestResult(statistic=1.0, pvalue=0.373900966300059, df=4)\n",
      "Wilcoxon Results for C\n",
      "TtestResult(statistic=1.0, pvalue=0.373900966300059, df=4)\n",
      "\n",
      "軀體疼痛\n",
      "Paired T-test Results for A\n",
      "TtestResult(statistic=0.3015113445777636, pvalue=0.778049548900021, df=4)\n",
      "Paired T-test Results for C\n",
      "TtestResult(statistic=-2.4494897427831783, pvalue=0.07048399691021993, df=4)\n",
      "\n",
      "Wilcoxon Results for A\n",
      "TtestResult(statistic=0.3015113445777636, pvalue=0.778049548900021, df=4)\n",
      "Wilcoxon Results for C\n",
      "TtestResult(statistic=-2.4494897427831783, pvalue=0.07048399691021993, df=4)\n",
      "\n",
      "總體健康\n",
      "Paired T-test Results for A\n",
      "TtestResult(statistic=3.1378581622109447, pvalue=0.034919706674539044, df=4)\n",
      "Paired T-test Results for C\n",
      "TtestResult(statistic=0.7385489458759964, pvalue=0.5011693674201637, df=4)\n",
      "\n",
      "Wilcoxon Results for A\n",
      "TtestResult(statistic=3.1378581622109447, pvalue=0.034919706674539044, df=4)\n",
      "Wilcoxon Results for C\n",
      "TtestResult(statistic=0.7385489458759964, pvalue=0.5011693674201637, df=4)\n",
      "\n",
      "軀體健康總測量\n",
      "Paired T-test Results for A\n",
      "TtestResult(statistic=1.299688112275091, pvalue=0.2635485371875481, df=4)\n",
      "Paired T-test Results for C\n",
      "TtestResult(statistic=0.04194061219900216, pvalue=0.9685560627437786, df=4)\n",
      "\n",
      "Wilcoxon Results for A\n",
      "TtestResult(statistic=1.299688112275091, pvalue=0.2635485371875481, df=4)\n",
      "Wilcoxon Results for C\n",
      "TtestResult(statistic=0.04194061219900216, pvalue=0.9685560627437786, df=4)\n",
      "\n",
      "總分\n",
      "Paired T-test Results for A\n",
      "TtestResult(statistic=0.46309385376482565, pvalue=0.6673711951302259, df=4)\n",
      "Paired T-test Results for C\n",
      "TtestResult(statistic=-1.5051642877376084, pvalue=0.20673475041999953, df=4)\n",
      "\n",
      "Wilcoxon Results for A\n",
      "TtestResult(statistic=0.46309385376482565, pvalue=0.6673711951302259, df=4)\n",
      "Wilcoxon Results for C\n",
      "TtestResult(statistic=-1.5051642877376084, pvalue=0.20673475041999953, df=4)\n",
      "\n",
      "活力\n",
      "Paired T-test Results for A\n",
      "TtestResult(statistic=-0.8427009716003844, pvalue=0.4468358966258564, df=4)\n",
      "Paired T-test Results for C\n",
      "TtestResult(statistic=-1.3949716649258315, pvalue=0.23549636025944287, df=4)\n",
      "\n",
      "Wilcoxon Results for A\n",
      "TtestResult(statistic=-0.8427009716003844, pvalue=0.4468358966258564, df=4)\n",
      "Wilcoxon Results for C\n",
      "TtestResult(statistic=-1.3949716649258315, pvalue=0.23549636025944287, df=4)\n",
      "\n",
      "社會功能\n",
      "Paired T-test Results for A\n",
      "TtestResult(statistic=1.1766968108291043, pvalue=0.30455878468053477, df=4)\n",
      "Paired T-test Results for C\n",
      "TtestResult(statistic=-1.862761261695199, pvalue=0.13596515796478775, df=4)\n",
      "\n",
      "Wilcoxon Results for A\n",
      "TtestResult(statistic=1.1766968108291043, pvalue=0.30455878468053477, df=4)\n",
      "Wilcoxon Results for C\n",
      "TtestResult(statistic=-1.862761261695199, pvalue=0.13596515796478775, df=4)\n",
      "\n",
      "情感職能\n",
      "Paired T-test Results for A\n",
      "TtestResult(statistic=nan, pvalue=nan, df=4)\n",
      "Paired T-test Results for C\n",
      "TtestResult(statistic=-1.3725936141102313, pvalue=0.2418085936914041, df=4)\n",
      "\n",
      "Wilcoxon Results for A\n",
      "前後組沒有差異，無法比較\n",
      "\n",
      "精神健康\n",
      "Paired T-test Results for A\n",
      "TtestResult(statistic=-1.1952286093343936, pvalue=0.2980148117312104, df=4)\n",
      "Paired T-test Results for C\n",
      "TtestResult(statistic=0.0, pvalue=1.0, df=4)\n",
      "\n",
      "Wilcoxon Results for A\n",
      "TtestResult(statistic=-1.1952286093343936, pvalue=0.2980148117312104, df=4)\n",
      "Wilcoxon Results for C\n",
      "TtestResult(statistic=0.0, pvalue=1.0, df=4)\n",
      "\n",
      "心理健康總測量\n",
      "Paired T-test Results for A\n",
      "TtestResult(statistic=-0.3252122453609338, pvalue=0.761320006502964, df=4)\n",
      "Paired T-test Results for C\n",
      "TtestResult(statistic=-1.678050139303091, pvalue=0.16864026999664272, df=4)\n",
      "\n",
      "Wilcoxon Results for A\n",
      "TtestResult(statistic=-0.3252122453609338, pvalue=0.761320006502964, df=4)\n",
      "Wilcoxon Results for C\n",
      "TtestResult(statistic=-1.678050139303091, pvalue=0.16864026999664272, df=4)\n",
      "\n"
     ]
    }
   ],
   "source": [
    "item= ['生理功能', '生理職能', '軀體疼痛', '總體健康', '軀體健康總測量', '總分', '活力', '社會功能', '情感職能', '精神健康', '心理健康總測量']\n",
    "\n",
    "result(item[:6], 6,  data_SF36[3], data_SF36[4], data_SF36[7], data_SF36[8])\n",
    "result(item[6:], 5, data_SF36[12], data_SF36[13], data_SF36[16], data_SF36[17])"
   ]
  },
  {
   "cell_type": "code",
   "execution_count": null,
   "id": "46dd094e",
   "metadata": {},
   "outputs": [],
   "source": []
  },
  {
   "cell_type": "code",
   "execution_count": null,
   "id": "9be7ae08",
   "metadata": {},
   "outputs": [],
   "source": []
  }
 ],
 "metadata": {
  "kernelspec": {
   "display_name": "Python 3 (ipykernel)",
   "language": "python",
   "name": "python3"
  },
  "language_info": {
   "codemirror_mode": {
    "name": "ipython",
    "version": 3
   },
   "file_extension": ".py",
   "mimetype": "text/x-python",
   "name": "python",
   "nbconvert_exporter": "python",
   "pygments_lexer": "ipython3",
   "version": "3.9.13"
  }
 },
 "nbformat": 4,
 "nbformat_minor": 5
}
